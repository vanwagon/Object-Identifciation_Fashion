{
  "nbformat": 4,
  "nbformat_minor": 0,
  "metadata": {
    "accelerator": "TPU",
    "colab": {
      "name": "Keras Fashion MNIST fashionai",
      "provenance": [],
      "collapsed_sections": [
        "N6ZDpd9XzFeN"
      ]
    },
    "kernelspec": {
      "display_name": "Python 3",
      "name": "python3"
    }
  },
  "cells": [
    {
      "cell_type": "markdown",
      "metadata": {
        "id": "edfbxDDh2AEs"
      },
      "source": [
        "injecting fashion MNIST into keras dataset to make model or sumthinnnn\r\n"
      ]
    },
    {
      "cell_type": "code",
      "metadata": {
        "id": "Zo-Yk6LFGfSf",
        "colab": {
          "base_uri": "https://localhost:8080/"
        },
        "outputId": "7a54c2f8-2e71-42f7-ef49-8a49201e201d"
      },
      "source": [
        "import tensorflow as tf\n",
        "import numpy as np\n",
        "import os\n",
        "\n",
        "import distutils\n",
        "if distutils.version.LooseVersion(tf.__version__) <= '2.0':\n",
        "    raise Exception('This notebook is compatible with TensorFlow 1.14 or higher, for TensorFlow 1.13 or lower please use the previous version at https://github.com/tensorflow/tpu/blob/r1.13/tools/colab/fashion_mnist.ipynb')\n",
        "\n",
        "(x_train, y_train), (x_test, y_test) = tf.keras.datasets.fashion_mnist.load_data()\n",
        "\n",
        "# add empty color dimension\n",
        "x_train = np.expand_dims(x_train, -1)\n",
        "x_test = np.expand_dims(x_test, -1)"
      ],
      "execution_count": 1,
      "outputs": [
        {
          "output_type": "stream",
          "text": [
            "Downloading data from https://storage.googleapis.com/tensorflow/tf-keras-datasets/train-labels-idx1-ubyte.gz\n",
            "32768/29515 [=================================] - 0s 0us/step\n",
            "Downloading data from https://storage.googleapis.com/tensorflow/tf-keras-datasets/train-images-idx3-ubyte.gz\n",
            "26427392/26421880 [==============================] - 0s 0us/step\n",
            "Downloading data from https://storage.googleapis.com/tensorflow/tf-keras-datasets/t10k-labels-idx1-ubyte.gz\n",
            "8192/5148 [===============================================] - 0s 0us/step\n",
            "Downloading data from https://storage.googleapis.com/tensorflow/tf-keras-datasets/t10k-images-idx3-ubyte.gz\n",
            "4423680/4422102 [==============================] - 0s 0us/step\n"
          ],
          "name": "stdout"
        }
      ]
    },
    {
      "cell_type": "markdown",
      "metadata": {
        "id": "Hgc2FZKVMx15"
      },
      "source": [
        "\\\n"
      ]
    },
    {
      "cell_type": "code",
      "metadata": {
        "id": "W7gMbs70GxA7"
      },
      "source": [
        "def create_model():\n",
        "  model = tf.keras.models.Sequential()\n",
        "  model.add(tf.keras.layers.BatchNormalization(input_shape=x_train.shape[1:]))\n",
        "  model.add(tf.keras.layers.Conv2D(64, (5, 5), padding='same', activation='elu'))\n",
        "  model.add(tf.keras.layers.MaxPooling2D(pool_size=(2, 2), strides=(2,2)))\n",
        "  model.add(tf.keras.layers.Dropout(0.25))\n",
        "\n",
        "  model.add(tf.keras.layers.BatchNormalization(input_shape=x_train.shape[1:]))\n",
        "  model.add(tf.keras.layers.Conv2D(128, (5, 5), padding='same', activation='elu'))\n",
        "  model.add(tf.keras.layers.MaxPooling2D(pool_size=(2, 2)))\n",
        "  model.add(tf.keras.layers.Dropout(0.25))\n",
        "\n",
        "  model.add(tf.keras.layers.BatchNormalization(input_shape=x_train.shape[1:]))\n",
        "  model.add(tf.keras.layers.Conv2D(256, (5, 5), padding='same', activation='elu'))\n",
        "  model.add(tf.keras.layers.MaxPooling2D(pool_size=(2, 2), strides=(2,2)))\n",
        "  model.add(tf.keras.layers.Dropout(0.25))\n",
        "\n",
        "  model.add(tf.keras.layers.Flatten())\n",
        "  model.add(tf.keras.layers.Dense(256))\n",
        "  model.add(tf.keras.layers.Activation('elu'))\n",
        "  model.add(tf.keras.layers.Dropout(0.5))\n",
        "  model.add(tf.keras.layers.Dense(10))\n",
        "  model.add(tf.keras.layers.Activation('softmax'))\n",
        "  return model"
      ],
      "execution_count": 8,
      "outputs": []
    },
    {
      "cell_type": "code",
      "metadata": {
        "colab": {
          "base_uri": "https://localhost:8080/"
        },
        "id": "pWEYmd_hIWg8",
        "outputId": "895b957b-1368-42bd-f8ef-296354cd73af"
      },
      "source": [
        "#this snippet trains the model\n",
        "tf.keras.backend.clear_session()\n",
        "\n",
        "resolver = tf.distribute.cluster_resolver.TPUClusterResolver('grpc://' + os.environ['COLAB_TPU_ADDR'])\n",
        "tf.config.experimental_connect_to_cluster(resolver)\n",
        "\n",
        "# This is the TPU initialization code that has to be at the beginning.\n",
        "tf.tpu.experimental.initialize_tpu_system(resolver)\n",
        "print(\"All devices: \", tf.config.list_logical_devices('TPU'))\n",
        "\n",
        "strategy = tf.distribute.experimental.TPUStrategy(resolver)\n",
        "\n",
        "with strategy.scope():\n",
        "  model = create_model()\n",
        "  model.compile(\n",
        "      optimizer=tf.keras.optimizers.Adam(learning_rate=1e-3, ),\n",
        "      loss='sparse_categorical_crossentropy',\n",
        "      metrics=['sparse_categorical_accuracy'])\n",
        "\n",
        "model.fit(\n",
        "    x_train.astype(np.float32), y_train.astype(np.float32),\n",
        "    epochs=17,\n",
        "    steps_per_epoch=60,\n",
        "    validation_data=(x_test.astype(np.float32), y_test.astype(np.float32)),\n",
        "    validation_freq=17\n",
        ")\n",
        "\n",
        "model.save_weights('./fashion_mnist.h5', overwrite=True)"
      ],
      "execution_count": 3,
      "outputs": [
        {
          "output_type": "stream",
          "text": [
            "INFO:tensorflow:Initializing the TPU system: grpc://10.115.172.130:8470\n"
          ],
          "name": "stdout"
        },
        {
          "output_type": "stream",
          "text": [
            "INFO:tensorflow:Initializing the TPU system: grpc://10.115.172.130:8470\n"
          ],
          "name": "stderr"
        },
        {
          "output_type": "stream",
          "text": [
            "INFO:tensorflow:Clearing out eager caches\n"
          ],
          "name": "stdout"
        },
        {
          "output_type": "stream",
          "text": [
            "INFO:tensorflow:Clearing out eager caches\n"
          ],
          "name": "stderr"
        },
        {
          "output_type": "stream",
          "text": [
            "INFO:tensorflow:Finished initializing TPU system.\n"
          ],
          "name": "stdout"
        },
        {
          "output_type": "stream",
          "text": [
            "INFO:tensorflow:Finished initializing TPU system.\n",
            "WARNING:absl:`tf.distribute.experimental.TPUStrategy` is deprecated, please use  the non experimental symbol `tf.distribute.TPUStrategy` instead.\n"
          ],
          "name": "stderr"
        },
        {
          "output_type": "stream",
          "text": [
            "All devices:  [LogicalDevice(name='/job:worker/replica:0/task:0/device:TPU:7', device_type='TPU'), LogicalDevice(name='/job:worker/replica:0/task:0/device:TPU:6', device_type='TPU'), LogicalDevice(name='/job:worker/replica:0/task:0/device:TPU:5', device_type='TPU'), LogicalDevice(name='/job:worker/replica:0/task:0/device:TPU:4', device_type='TPU'), LogicalDevice(name='/job:worker/replica:0/task:0/device:TPU:3', device_type='TPU'), LogicalDevice(name='/job:worker/replica:0/task:0/device:TPU:0', device_type='TPU'), LogicalDevice(name='/job:worker/replica:0/task:0/device:TPU:1', device_type='TPU'), LogicalDevice(name='/job:worker/replica:0/task:0/device:TPU:2', device_type='TPU')]\n",
            "INFO:tensorflow:Found TPU system:\n"
          ],
          "name": "stdout"
        },
        {
          "output_type": "stream",
          "text": [
            "INFO:tensorflow:Found TPU system:\n"
          ],
          "name": "stderr"
        },
        {
          "output_type": "stream",
          "text": [
            "INFO:tensorflow:*** Num TPU Cores: 8\n"
          ],
          "name": "stdout"
        },
        {
          "output_type": "stream",
          "text": [
            "INFO:tensorflow:*** Num TPU Cores: 8\n"
          ],
          "name": "stderr"
        },
        {
          "output_type": "stream",
          "text": [
            "INFO:tensorflow:*** Num TPU Workers: 1\n"
          ],
          "name": "stdout"
        },
        {
          "output_type": "stream",
          "text": [
            "INFO:tensorflow:*** Num TPU Workers: 1\n"
          ],
          "name": "stderr"
        },
        {
          "output_type": "stream",
          "text": [
            "INFO:tensorflow:*** Num TPU Cores Per Worker: 8\n"
          ],
          "name": "stdout"
        },
        {
          "output_type": "stream",
          "text": [
            "INFO:tensorflow:*** Num TPU Cores Per Worker: 8\n"
          ],
          "name": "stderr"
        },
        {
          "output_type": "stream",
          "text": [
            "INFO:tensorflow:*** Available Device: _DeviceAttributes(/job:localhost/replica:0/task:0/device:CPU:0, CPU, 0, 0)\n"
          ],
          "name": "stdout"
        },
        {
          "output_type": "stream",
          "text": [
            "INFO:tensorflow:*** Available Device: _DeviceAttributes(/job:localhost/replica:0/task:0/device:CPU:0, CPU, 0, 0)\n"
          ],
          "name": "stderr"
        },
        {
          "output_type": "stream",
          "text": [
            "INFO:tensorflow:*** Available Device: _DeviceAttributes(/job:worker/replica:0/task:0/device:CPU:0, CPU, 0, 0)\n"
          ],
          "name": "stdout"
        },
        {
          "output_type": "stream",
          "text": [
            "INFO:tensorflow:*** Available Device: _DeviceAttributes(/job:worker/replica:0/task:0/device:CPU:0, CPU, 0, 0)\n"
          ],
          "name": "stderr"
        },
        {
          "output_type": "stream",
          "text": [
            "INFO:tensorflow:*** Available Device: _DeviceAttributes(/job:worker/replica:0/task:0/device:TPU:0, TPU, 0, 0)\n"
          ],
          "name": "stdout"
        },
        {
          "output_type": "stream",
          "text": [
            "INFO:tensorflow:*** Available Device: _DeviceAttributes(/job:worker/replica:0/task:0/device:TPU:0, TPU, 0, 0)\n"
          ],
          "name": "stderr"
        },
        {
          "output_type": "stream",
          "text": [
            "INFO:tensorflow:*** Available Device: _DeviceAttributes(/job:worker/replica:0/task:0/device:TPU:1, TPU, 0, 0)\n"
          ],
          "name": "stdout"
        },
        {
          "output_type": "stream",
          "text": [
            "INFO:tensorflow:*** Available Device: _DeviceAttributes(/job:worker/replica:0/task:0/device:TPU:1, TPU, 0, 0)\n"
          ],
          "name": "stderr"
        },
        {
          "output_type": "stream",
          "text": [
            "INFO:tensorflow:*** Available Device: _DeviceAttributes(/job:worker/replica:0/task:0/device:TPU:2, TPU, 0, 0)\n"
          ],
          "name": "stdout"
        },
        {
          "output_type": "stream",
          "text": [
            "INFO:tensorflow:*** Available Device: _DeviceAttributes(/job:worker/replica:0/task:0/device:TPU:2, TPU, 0, 0)\n"
          ],
          "name": "stderr"
        },
        {
          "output_type": "stream",
          "text": [
            "INFO:tensorflow:*** Available Device: _DeviceAttributes(/job:worker/replica:0/task:0/device:TPU:3, TPU, 0, 0)\n"
          ],
          "name": "stdout"
        },
        {
          "output_type": "stream",
          "text": [
            "INFO:tensorflow:*** Available Device: _DeviceAttributes(/job:worker/replica:0/task:0/device:TPU:3, TPU, 0, 0)\n"
          ],
          "name": "stderr"
        },
        {
          "output_type": "stream",
          "text": [
            "INFO:tensorflow:*** Available Device: _DeviceAttributes(/job:worker/replica:0/task:0/device:TPU:4, TPU, 0, 0)\n"
          ],
          "name": "stdout"
        },
        {
          "output_type": "stream",
          "text": [
            "INFO:tensorflow:*** Available Device: _DeviceAttributes(/job:worker/replica:0/task:0/device:TPU:4, TPU, 0, 0)\n"
          ],
          "name": "stderr"
        },
        {
          "output_type": "stream",
          "text": [
            "INFO:tensorflow:*** Available Device: _DeviceAttributes(/job:worker/replica:0/task:0/device:TPU:5, TPU, 0, 0)\n"
          ],
          "name": "stdout"
        },
        {
          "output_type": "stream",
          "text": [
            "INFO:tensorflow:*** Available Device: _DeviceAttributes(/job:worker/replica:0/task:0/device:TPU:5, TPU, 0, 0)\n"
          ],
          "name": "stderr"
        },
        {
          "output_type": "stream",
          "text": [
            "INFO:tensorflow:*** Available Device: _DeviceAttributes(/job:worker/replica:0/task:0/device:TPU:6, TPU, 0, 0)\n"
          ],
          "name": "stdout"
        },
        {
          "output_type": "stream",
          "text": [
            "INFO:tensorflow:*** Available Device: _DeviceAttributes(/job:worker/replica:0/task:0/device:TPU:6, TPU, 0, 0)\n"
          ],
          "name": "stderr"
        },
        {
          "output_type": "stream",
          "text": [
            "INFO:tensorflow:*** Available Device: _DeviceAttributes(/job:worker/replica:0/task:0/device:TPU:7, TPU, 0, 0)\n"
          ],
          "name": "stdout"
        },
        {
          "output_type": "stream",
          "text": [
            "INFO:tensorflow:*** Available Device: _DeviceAttributes(/job:worker/replica:0/task:0/device:TPU:7, TPU, 0, 0)\n"
          ],
          "name": "stderr"
        },
        {
          "output_type": "stream",
          "text": [
            "INFO:tensorflow:*** Available Device: _DeviceAttributes(/job:worker/replica:0/task:0/device:TPU_SYSTEM:0, TPU_SYSTEM, 0, 0)\n"
          ],
          "name": "stdout"
        },
        {
          "output_type": "stream",
          "text": [
            "INFO:tensorflow:*** Available Device: _DeviceAttributes(/job:worker/replica:0/task:0/device:TPU_SYSTEM:0, TPU_SYSTEM, 0, 0)\n"
          ],
          "name": "stderr"
        },
        {
          "output_type": "stream",
          "text": [
            "INFO:tensorflow:*** Available Device: _DeviceAttributes(/job:worker/replica:0/task:0/device:XLA_CPU:0, XLA_CPU, 0, 0)\n"
          ],
          "name": "stdout"
        },
        {
          "output_type": "stream",
          "text": [
            "INFO:tensorflow:*** Available Device: _DeviceAttributes(/job:worker/replica:0/task:0/device:XLA_CPU:0, XLA_CPU, 0, 0)\n"
          ],
          "name": "stderr"
        },
        {
          "output_type": "stream",
          "text": [
            "Epoch 1/17\n",
            "60/60 [==============================] - 6s 21ms/step - loss: 2.0673 - sparse_categorical_accuracy: 0.5628\n",
            "Epoch 2/17\n",
            "60/60 [==============================] - 1s 22ms/step - loss: 0.5584 - sparse_categorical_accuracy: 0.8066\n",
            "Epoch 3/17\n",
            "60/60 [==============================] - 1s 21ms/step - loss: 0.4475 - sparse_categorical_accuracy: 0.8457\n",
            "Epoch 4/17\n",
            "60/60 [==============================] - 1s 21ms/step - loss: 0.3820 - sparse_categorical_accuracy: 0.8646\n",
            "Epoch 5/17\n",
            "60/60 [==============================] - 1s 21ms/step - loss: 0.3505 - sparse_categorical_accuracy: 0.8756\n",
            "Epoch 6/17\n",
            "60/60 [==============================] - 1s 21ms/step - loss: 0.3246 - sparse_categorical_accuracy: 0.8844\n",
            "Epoch 7/17\n",
            "60/60 [==============================] - 1s 21ms/step - loss: 0.2960 - sparse_categorical_accuracy: 0.8931\n",
            "Epoch 8/17\n",
            "60/60 [==============================] - 1s 21ms/step - loss: 0.2752 - sparse_categorical_accuracy: 0.9003\n",
            "Epoch 9/17\n",
            "60/60 [==============================] - 1s 22ms/step - loss: 0.2539 - sparse_categorical_accuracy: 0.9075\n",
            "Epoch 10/17\n",
            "60/60 [==============================] - 1s 22ms/step - loss: 0.2384 - sparse_categorical_accuracy: 0.9133\n",
            "Epoch 11/17\n",
            "60/60 [==============================] - 1s 21ms/step - loss: 0.2202 - sparse_categorical_accuracy: 0.9194\n",
            "Epoch 12/17\n",
            "60/60 [==============================] - 1s 21ms/step - loss: 0.2023 - sparse_categorical_accuracy: 0.9250\n",
            "Epoch 13/17\n",
            "60/60 [==============================] - 1s 22ms/step - loss: 0.1914 - sparse_categorical_accuracy: 0.9293\n",
            "Epoch 14/17\n",
            "60/60 [==============================] - 1s 22ms/step - loss: 0.1818 - sparse_categorical_accuracy: 0.9316\n",
            "Epoch 15/17\n",
            "60/60 [==============================] - 1s 21ms/step - loss: 0.1757 - sparse_categorical_accuracy: 0.9354\n",
            "Epoch 16/17\n",
            "60/60 [==============================] - 1s 22ms/step - loss: 0.1662 - sparse_categorical_accuracy: 0.9387\n",
            "Epoch 17/17\n",
            "60/60 [==============================] - 8s 134ms/step - loss: 0.1502 - sparse_categorical_accuracy: 0.9448 - val_loss: 0.2290 - val_sparse_categorical_accuracy: 0.9202\n"
          ],
          "name": "stdout"
        }
      ]
    },
    {
      "cell_type": "markdown",
      "metadata": {
        "id": "ESL6ltQTMm05"
      },
      "source": [
        "so the code below predicts labels on images, i want to figure out how i can show the image\n"
      ]
    },
    {
      "cell_type": "code",
      "metadata": {
        "id": "SaYPv_aKId2d"
      },
      "source": [
        "LABEL_NAMES = ['t_shirt', 'trouser', 'pullover', 'dress', 'coat', 'sandal', 'shirt', 'sneaker', 'bag', 'ankle_boots']\n",
        "\n",
        "\n",
        "cpu_model = create_model()\n",
        "cpu_model.load_weights('./fashion_mnist.h5')\n",
        "\n",
        "from matplotlib import pyplot\n",
        "%matplotlib inline\n",
        "\n",
        "def plot_predictions(images, predictions):\n",
        "  n = images.shape[0]\n",
        "  nc = int(np.ceil(n / 4))\n",
        "  f, axes = pyplot.subplots(nc, 4)\n",
        "  for i in range(nc * 4):\n",
        "    y = i // 4\n",
        "    x = i % 4\n",
        "    axes[x, y].axis('off')\n",
        "    \n",
        "    label = LABEL_NAMES[np.argmax(predictions[i])]\n",
        "    confidence = np.max(predictions[i])\n",
        "    if i > n:\n",
        "      continue\n",
        "    axes[x, y].imshow(images[i])\n",
        "    axes[x, y].text(0.5, 0.5, label + '\\n%.3f' % confidence, fontsize=14)\n",
        "\n",
        "  pyplot.gcf().set_size_inches(8, 8)  \n",
        "  plot_predictions(np.squeeze(x_test[:16]), cpu_model.predict(x_test[:16]))"
      ],
      "execution_count": 11,
      "outputs": []
    },
    {
      "cell_type": "code",
      "metadata": {
        "id": "MO2ljgz_coKK"
      },
      "source": [
        "#currently working on this\r\n",
        "def display_image(image):\r\n",
        "  fig = plt.figure(figsize=(20, 15))\r\n",
        "  plt.grid(False)\r\n",
        "  plt.imshow(image)\r\n",
        "\r\n",
        "\r\n",
        "def download_and_resize_image(url, new_width=256, new_height=256,\r\n",
        "                              display=False):\r\n",
        "  _, filename = tempfile.mkstemp(suffix=\".jpg\")\r\n",
        "  response = urlopen(url)\r\n",
        "  image_data = response.read()\r\n",
        "  image_data = BytesIO(image_data)\r\n",
        "  pil_image = Image.open(image_data)\r\n",
        "  pil_image = ImageOps.fit(pil_image, (new_width, new_height), Image.ANTIALIAS)\r\n",
        "  pil_image_rgb = pil_image.convert(\"RGB\")\r\n",
        "  pil_image_rgb.save(filename, format=\"JPEG\", quality=90)\r\n",
        "  print(\"Image downloaded to %s.\" % filename)\r\n",
        "  if display:\r\n",
        "    display_image(pil_image)\r\n",
        "  return filename\r\n",
        "\r\n",
        "\r\n",
        "def draw_bounding_box_on_image(image,\r\n",
        "                               ymin,\r\n",
        "                               xmin,\r\n",
        "                               ymax,\r\n",
        "                               xmax,\r\n",
        "                               color,\r\n",
        "                               font,\r\n",
        "                               thickness=4,\r\n",
        "                               display_str_list=()):\r\n",
        "  \"\"\"Adds a bounding box to an image.\"\"\"\r\n",
        "  draw = ImageDraw.Draw(image)\r\n",
        "  im_width, im_height = image.size\r\n",
        "  (left, right, top, bottom) = (xmin * im_width, xmax * im_width,\r\n",
        "                                ymin * im_height, ymax * im_height)\r\n",
        "  draw.line([(left, top), (left, bottom), (right, bottom), (right, top),\r\n",
        "             (left, top)],\r\n",
        "            width=thickness,\r\n",
        "            fill=color)\r\n",
        "\r\n",
        "  # If the total height of the display strings added to the top of the bounding\r\n",
        "  # box exceeds the top of the image, stack the strings below the bounding box\r\n",
        "  # instead of above.\r\n",
        "  display_str_heights = [font.getsize(ds)[1] for ds in display_str_list]\r\n",
        "  # Each display_str has a top and bottom margin of 0.05x.\r\n",
        "  total_display_str_height = (1 + 2 * 0.05) * sum(display_str_heights)\r\n",
        "\r\n",
        "  if top > total_display_str_height:\r\n",
        "    text_bottom = top\r\n",
        "  else:\r\n",
        "    text_bottom = top + total_display_str_height\r\n",
        "  # Reverse list and print from bottom to top.\r\n",
        "  for display_str in display_str_list[::-1]:\r\n",
        "    text_width, text_height = font.getsize(display_str)\r\n",
        "    margin = np.ceil(0.05 * text_height)\r\n",
        "    draw.rectangle([(left, text_bottom - text_height - 2 * margin),\r\n",
        "                    (left + text_width, text_bottom)],\r\n",
        "                   fill=color)\r\n",
        "    draw.text((left + margin, text_bottom - text_height - margin),\r\n",
        "              display_str,\r\n",
        "              fill=\"black\",\r\n",
        "              font=font)\r\n",
        "    text_bottom -= text_height - 2 * margin\r\n",
        "\r\n",
        "\r\n",
        "def draw_boxes(image, boxes, class_names, scores, max_boxes=10, min_score=0.1):\r\n",
        "  \"\"\"Overlay labeled boxes on an image with formatted scores and label names.\"\"\"\r\n",
        "  colors = list(ImageColor.colormap.values())\r\n",
        "\r\n",
        "  try:\r\n",
        "    font = ImageFont.truetype(\"/usr/share/fonts/truetype/liberation/LiberationSansNarrow-Regular.ttf\",\r\n",
        "                              25)\r\n",
        "  except IOError:\r\n",
        "    print(\"Font not found, using default font.\")\r\n",
        "    font = ImageFont.load_default()\r\n",
        "\r\n",
        "  for i in range(min(boxes.shape[0], max_boxes)):\r\n",
        "    if scores[i] >= min_score:\r\n",
        "      ymin, xmin, ymax, xmax = tuple(boxes[i])\r\n",
        "      display_str = \"{}: {}%\".format(class_names[i].decode(\"ascii\"),\r\n",
        "                                     int(100 * scores[i]))\r\n",
        "      color = colors[hash(class_names[i]) % len(colors)]\r\n",
        "      image_pil = Image.fromarray(np.uint8(image)).convert(\"RGB\")\r\n",
        "      draw_bounding_box_on_image(\r\n",
        "          image_pil,\r\n",
        "          ymin,\r\n",
        "          xmin,\r\n",
        "          ymax,\r\n",
        "          xmax,\r\n",
        "          color,\r\n",
        "          font,\r\n",
        "          display_str_list=[display_str])\r\n",
        "      np.copyto(image, np.array(image_pil))\r\n",
        "  return image"
      ],
      "execution_count": 12,
      "outputs": []
    },
    {
      "cell_type": "code",
      "metadata": {
        "id": "r3R4CMoDlzdd"
      },
      "source": [
        ""
      ],
      "execution_count": 12,
      "outputs": []
    }
  ]
}